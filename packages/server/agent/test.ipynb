{
 "cells": [
  {
   "cell_type": "code",
   "execution_count": 2,
   "metadata": {},
   "outputs": [
    {
     "name": "stdout",
     "output_type": "stream",
     "text": [
      "BASE_DIR: /Users/kenono/apps/pe/agent\n",
      "sys.path: ['/Users/kenono/apps/pe/agent/agent', '/Library/Frameworks/Python.framework/Versions/3.11/lib/python311.zip', '/Library/Frameworks/Python.framework/Versions/3.11/lib/python3.11', '/Library/Frameworks/Python.framework/Versions/3.11/lib/python3.11/lib-dynload', '', '/Users/kenono/apps/pe/venv/lib/python3.11/site-packages', '/Users/kenono/apps/pe/agent']\n",
      "DJANGO_SETTINGS_MODULE: config.settings.local\n"
     ]
    }
   ],
   "source": [
    "import os\n",
    "import sys\n",
    "from pathlib import Path\n",
    "\n",
    "# Replace 'your_project_root' with the path to your project's root folder\n",
    "project_root = Path('/Users/kenono/apps/pe/agent')\n",
    "sys.path.append(str(project_root))\n",
    "\n",
    "os.environ.setdefault(\"DJANGO_SETTINGS_MODULE\", \"config.settings.local\")\n",
    "import django\n",
    "print(f\"BASE_DIR: {project_root}\")\n",
    "print(f\"sys.path: {sys.path}\")\n",
    "print(f\"DJANGO_SETTINGS_MODULE: {os.environ['DJANGO_SETTINGS_MODULE']}\")\n",
    "\n",
    "django.setup()\n",
    "\n",
    "\n",
    "# import os\n",
    "# import sys\n",
    "# from pathlib import Path\n",
    "# from channels.db import database_sync_to_async\n",
    "\n",
    "# # Replace 'your_project_root' with the path to your project's root folder\n",
    "# project_root = Path('/Users/kenono/apps/pe/agent')\n",
    "# sys.path.append(str(project_root))\n",
    "\n",
    "# os.environ.setdefault(\"DJANGO_SETTINGS_MODULE\", \"config.settings.local\")\n",
    "# import django\n",
    "# django.setup()"
   ]
  },
  {
   "cell_type": "code",
   "execution_count": 7,
   "metadata": {},
   "outputs": [
    {
     "name": "stdout",
     "output_type": "stream",
     "text": [
      "ken.ono+1@fabrica.tech\n",
      "here1\n",
      "<QuerySet [<ChatParticipant: sss in hmaam>, <ChatParticipant: sss in hmaam>, <ChatParticipant: sss in hmaam>, <ChatParticipant: sss in hmaam>, <ChatParticipant: sss in hmaam>, <ChatParticipant: sss in hmaam>, <ChatParticipant: sss in hmaam>, <ChatParticipant: sss in hmaam>]>\n",
      "here2\n",
      "<QuerySet [<Chat: hmm>, <Chat: hmaam>, <Chat: hmaam>, <Chat: hmaam>, <Chat: hmaam>, <Chat: hmaam>, <Chat: hmaam>, <Chat: hmaam>, <Chat: hmaam>, <Chat: hmaam>, <Chat: hmaam>, <Chat: hmaam>, <Chat: hmaam>, <Chat: hmaam>, <Chat: hmaam>, <Chat: hmaam>, <Chat: Test Chat>, <Chat: Test Chat>, <Chat: Test Chat>]>\n",
      "here3\n"
     ]
    },
    {
     "ename": "SynchronousOnlyOperation",
     "evalue": "You cannot call this from an async context - use a thread or sync_to_async.",
     "output_type": "error",
     "traceback": [
      "\u001b[0;31m---------------------------------------------------------------------------\u001b[0m",
      "\u001b[0;31mKeyError\u001b[0m                                  Traceback (most recent call last)",
      "File \u001b[0;32m~/apps/pe/venv/lib/python3.11/site-packages/django/db/models/fields/related_descriptors.py:218\u001b[0m, in \u001b[0;36mForwardManyToOneDescriptor.__get__\u001b[0;34m(self, instance, cls)\u001b[0m\n\u001b[1;32m    217\u001b[0m \u001b[39mtry\u001b[39;00m:\n\u001b[0;32m--> 218\u001b[0m     rel_obj \u001b[39m=\u001b[39m \u001b[39mself\u001b[39;49m\u001b[39m.\u001b[39;49mfield\u001b[39m.\u001b[39;49mget_cached_value(instance)\n\u001b[1;32m    219\u001b[0m \u001b[39mexcept\u001b[39;00m \u001b[39mKeyError\u001b[39;00m:\n",
      "File \u001b[0;32m~/apps/pe/venv/lib/python3.11/site-packages/django/db/models/fields/mixins.py:15\u001b[0m, in \u001b[0;36mFieldCacheMixin.get_cached_value\u001b[0;34m(self, instance, default)\u001b[0m\n\u001b[1;32m     14\u001b[0m \u001b[39mtry\u001b[39;00m:\n\u001b[0;32m---> 15\u001b[0m     \u001b[39mreturn\u001b[39;00m instance\u001b[39m.\u001b[39;49m_state\u001b[39m.\u001b[39;49mfields_cache[cache_name]\n\u001b[1;32m     16\u001b[0m \u001b[39mexcept\u001b[39;00m \u001b[39mKeyError\u001b[39;00m:\n",
      "\u001b[0;31mKeyError\u001b[0m: 'chat'",
      "\nDuring handling of the above exception, another exception occurred:\n",
      "\u001b[0;31mSynchronousOnlyOperation\u001b[0m                  Traceback (most recent call last)",
      "Cell \u001b[0;32mIn[7], line 26\u001b[0m\n\u001b[1;32m     23\u001b[0m     my_chats \u001b[39m=\u001b[39m \u001b[39mawait\u001b[39;00m chats(user)\n\u001b[1;32m     24\u001b[0m     \u001b[39mprint\u001b[39m(my_chats)\n\u001b[0;32m---> 26\u001b[0m \u001b[39mawait\u001b[39;00m main()\n",
      "Cell \u001b[0;32mIn[7], line 24\u001b[0m, in \u001b[0;36mmain\u001b[0;34m()\u001b[0m\n\u001b[1;32m     22\u001b[0m user \u001b[39m=\u001b[39m \u001b[39mawait\u001b[39;00m get_user_by_pk(\u001b[39m2\u001b[39m)\n\u001b[1;32m     23\u001b[0m my_chats \u001b[39m=\u001b[39m \u001b[39mawait\u001b[39;00m chats(user)\n\u001b[0;32m---> 24\u001b[0m \u001b[39mprint\u001b[39;49m(my_chats)\n",
      "File \u001b[0;32m~/apps/pe/venv/lib/python3.11/site-packages/django/db/models/base.py:588\u001b[0m, in \u001b[0;36mModel.__repr__\u001b[0;34m(self)\u001b[0m\n\u001b[1;32m    587\u001b[0m \u001b[39mdef\u001b[39;00m \u001b[39m__repr__\u001b[39m(\u001b[39mself\u001b[39m):\n\u001b[0;32m--> 588\u001b[0m     \u001b[39mreturn\u001b[39;00m \u001b[39m\"\u001b[39m\u001b[39m<\u001b[39m\u001b[39m%s\u001b[39;00m\u001b[39m: \u001b[39m\u001b[39m%s\u001b[39;00m\u001b[39m>\u001b[39m\u001b[39m\"\u001b[39m \u001b[39m%\u001b[39m (\u001b[39mself\u001b[39m\u001b[39m.\u001b[39m\u001b[39m__class__\u001b[39m\u001b[39m.\u001b[39m\u001b[39m__name__\u001b[39m, \u001b[39mself\u001b[39m)\n",
      "File \u001b[0;32m~/apps/pe/agent/agent/chat_messages/models.py:26\u001b[0m, in \u001b[0;36mChatParticipant.__str__\u001b[0;34m(self)\u001b[0m\n\u001b[1;32m     25\u001b[0m \u001b[39mdef\u001b[39;00m \u001b[39m__str__\u001b[39m(\u001b[39mself\u001b[39m):\n\u001b[0;32m---> 26\u001b[0m     \u001b[39mreturn\u001b[39;00m \u001b[39mf\u001b[39m\u001b[39m\"\u001b[39m\u001b[39m{\u001b[39;00m\u001b[39mself\u001b[39m\u001b[39m.\u001b[39muser\u001b[39m.\u001b[39mname\u001b[39m}\u001b[39;00m\u001b[39m in \u001b[39m\u001b[39m{\u001b[39;00m\u001b[39mself\u001b[39;49m\u001b[39m.\u001b[39;49mchat\u001b[39m.\u001b[39mname\u001b[39m}\u001b[39;00m\u001b[39m\"\u001b[39m\n",
      "File \u001b[0;32m~/apps/pe/venv/lib/python3.11/site-packages/django/db/models/fields/related_descriptors.py:236\u001b[0m, in \u001b[0;36mForwardManyToOneDescriptor.__get__\u001b[0;34m(self, instance, cls)\u001b[0m\n\u001b[1;32m    234\u001b[0m     rel_obj \u001b[39m=\u001b[39m \u001b[39mNone\u001b[39;00m\n\u001b[1;32m    235\u001b[0m \u001b[39mif\u001b[39;00m rel_obj \u001b[39mis\u001b[39;00m \u001b[39mNone\u001b[39;00m \u001b[39mand\u001b[39;00m has_value:\n\u001b[0;32m--> 236\u001b[0m     rel_obj \u001b[39m=\u001b[39m \u001b[39mself\u001b[39;49m\u001b[39m.\u001b[39;49mget_object(instance)\n\u001b[1;32m    237\u001b[0m     remote_field \u001b[39m=\u001b[39m \u001b[39mself\u001b[39m\u001b[39m.\u001b[39mfield\u001b[39m.\u001b[39mremote_field\n\u001b[1;32m    238\u001b[0m     \u001b[39m# If this is a one-to-one relation, set the reverse accessor\u001b[39;00m\n\u001b[1;32m    239\u001b[0m     \u001b[39m# cache on the related object to the current instance to avoid\u001b[39;00m\n\u001b[1;32m    240\u001b[0m     \u001b[39m# an extra SQL query if it's accessed later on.\u001b[39;00m\n",
      "File \u001b[0;32m~/apps/pe/venv/lib/python3.11/site-packages/django/db/models/fields/related_descriptors.py:199\u001b[0m, in \u001b[0;36mForwardManyToOneDescriptor.get_object\u001b[0;34m(self, instance)\u001b[0m\n\u001b[1;32m    197\u001b[0m qs \u001b[39m=\u001b[39m \u001b[39mself\u001b[39m\u001b[39m.\u001b[39mget_queryset(instance\u001b[39m=\u001b[39minstance)\n\u001b[1;32m    198\u001b[0m \u001b[39m# Assuming the database enforces foreign keys, this won't fail.\u001b[39;00m\n\u001b[0;32m--> 199\u001b[0m \u001b[39mreturn\u001b[39;00m qs\u001b[39m.\u001b[39;49mget(\u001b[39mself\u001b[39;49m\u001b[39m.\u001b[39;49mfield\u001b[39m.\u001b[39;49mget_reverse_related_filter(instance))\n",
      "File \u001b[0;32m~/apps/pe/venv/lib/python3.11/site-packages/django/db/models/query.py:633\u001b[0m, in \u001b[0;36mQuerySet.get\u001b[0;34m(self, *args, **kwargs)\u001b[0m\n\u001b[1;32m    631\u001b[0m     limit \u001b[39m=\u001b[39m MAX_GET_RESULTS\n\u001b[1;32m    632\u001b[0m     clone\u001b[39m.\u001b[39mquery\u001b[39m.\u001b[39mset_limits(high\u001b[39m=\u001b[39mlimit)\n\u001b[0;32m--> 633\u001b[0m num \u001b[39m=\u001b[39m \u001b[39mlen\u001b[39m(clone)\n\u001b[1;32m    634\u001b[0m \u001b[39mif\u001b[39;00m num \u001b[39m==\u001b[39m \u001b[39m1\u001b[39m:\n\u001b[1;32m    635\u001b[0m     \u001b[39mreturn\u001b[39;00m clone\u001b[39m.\u001b[39m_result_cache[\u001b[39m0\u001b[39m]\n",
      "File \u001b[0;32m~/apps/pe/venv/lib/python3.11/site-packages/django/db/models/query.py:380\u001b[0m, in \u001b[0;36mQuerySet.__len__\u001b[0;34m(self)\u001b[0m\n\u001b[1;32m    379\u001b[0m \u001b[39mdef\u001b[39;00m \u001b[39m__len__\u001b[39m(\u001b[39mself\u001b[39m):\n\u001b[0;32m--> 380\u001b[0m     \u001b[39mself\u001b[39;49m\u001b[39m.\u001b[39;49m_fetch_all()\n\u001b[1;32m    381\u001b[0m     \u001b[39mreturn\u001b[39;00m \u001b[39mlen\u001b[39m(\u001b[39mself\u001b[39m\u001b[39m.\u001b[39m_result_cache)\n",
      "File \u001b[0;32m~/apps/pe/venv/lib/python3.11/site-packages/django/db/models/query.py:1881\u001b[0m, in \u001b[0;36mQuerySet._fetch_all\u001b[0;34m(self)\u001b[0m\n\u001b[1;32m   1879\u001b[0m \u001b[39mdef\u001b[39;00m \u001b[39m_fetch_all\u001b[39m(\u001b[39mself\u001b[39m):\n\u001b[1;32m   1880\u001b[0m     \u001b[39mif\u001b[39;00m \u001b[39mself\u001b[39m\u001b[39m.\u001b[39m_result_cache \u001b[39mis\u001b[39;00m \u001b[39mNone\u001b[39;00m:\n\u001b[0;32m-> 1881\u001b[0m         \u001b[39mself\u001b[39m\u001b[39m.\u001b[39m_result_cache \u001b[39m=\u001b[39m \u001b[39mlist\u001b[39m(\u001b[39mself\u001b[39m\u001b[39m.\u001b[39m_iterable_class(\u001b[39mself\u001b[39m))\n\u001b[1;32m   1882\u001b[0m     \u001b[39mif\u001b[39;00m \u001b[39mself\u001b[39m\u001b[39m.\u001b[39m_prefetch_related_lookups \u001b[39mand\u001b[39;00m \u001b[39mnot\u001b[39;00m \u001b[39mself\u001b[39m\u001b[39m.\u001b[39m_prefetch_done:\n\u001b[1;32m   1883\u001b[0m         \u001b[39mself\u001b[39m\u001b[39m.\u001b[39m_prefetch_related_objects()\n",
      "File \u001b[0;32m~/apps/pe/venv/lib/python3.11/site-packages/django/db/models/query.py:91\u001b[0m, in \u001b[0;36mModelIterable.__iter__\u001b[0;34m(self)\u001b[0m\n\u001b[1;32m     88\u001b[0m compiler \u001b[39m=\u001b[39m queryset\u001b[39m.\u001b[39mquery\u001b[39m.\u001b[39mget_compiler(using\u001b[39m=\u001b[39mdb)\n\u001b[1;32m     89\u001b[0m \u001b[39m# Execute the query. This will also fill compiler.select, klass_info,\u001b[39;00m\n\u001b[1;32m     90\u001b[0m \u001b[39m# and annotations.\u001b[39;00m\n\u001b[0;32m---> 91\u001b[0m results \u001b[39m=\u001b[39m compiler\u001b[39m.\u001b[39;49mexecute_sql(\n\u001b[1;32m     92\u001b[0m     chunked_fetch\u001b[39m=\u001b[39;49m\u001b[39mself\u001b[39;49m\u001b[39m.\u001b[39;49mchunked_fetch, chunk_size\u001b[39m=\u001b[39;49m\u001b[39mself\u001b[39;49m\u001b[39m.\u001b[39;49mchunk_size\n\u001b[1;32m     93\u001b[0m )\n\u001b[1;32m     94\u001b[0m select, klass_info, annotation_col_map \u001b[39m=\u001b[39m (\n\u001b[1;32m     95\u001b[0m     compiler\u001b[39m.\u001b[39mselect,\n\u001b[1;32m     96\u001b[0m     compiler\u001b[39m.\u001b[39mklass_info,\n\u001b[1;32m     97\u001b[0m     compiler\u001b[39m.\u001b[39mannotation_col_map,\n\u001b[1;32m     98\u001b[0m )\n\u001b[1;32m     99\u001b[0m model_cls \u001b[39m=\u001b[39m klass_info[\u001b[39m\"\u001b[39m\u001b[39mmodel\u001b[39m\u001b[39m\"\u001b[39m]\n",
      "File \u001b[0;32m~/apps/pe/venv/lib/python3.11/site-packages/django/db/models/sql/compiler.py:1558\u001b[0m, in \u001b[0;36mSQLCompiler.execute_sql\u001b[0;34m(self, result_type, chunked_fetch, chunk_size)\u001b[0m\n\u001b[1;32m   1556\u001b[0m     cursor \u001b[39m=\u001b[39m \u001b[39mself\u001b[39m\u001b[39m.\u001b[39mconnection\u001b[39m.\u001b[39mchunked_cursor()\n\u001b[1;32m   1557\u001b[0m \u001b[39melse\u001b[39;00m:\n\u001b[0;32m-> 1558\u001b[0m     cursor \u001b[39m=\u001b[39m \u001b[39mself\u001b[39;49m\u001b[39m.\u001b[39;49mconnection\u001b[39m.\u001b[39;49mcursor()\n\u001b[1;32m   1559\u001b[0m \u001b[39mtry\u001b[39;00m:\n\u001b[1;32m   1560\u001b[0m     cursor\u001b[39m.\u001b[39mexecute(sql, params)\n",
      "File \u001b[0;32m~/apps/pe/venv/lib/python3.11/site-packages/django/utils/asyncio.py:24\u001b[0m, in \u001b[0;36masync_unsafe.<locals>.decorator.<locals>.inner\u001b[0;34m(*args, **kwargs)\u001b[0m\n\u001b[1;32m     22\u001b[0m \u001b[39melse\u001b[39;00m:\n\u001b[1;32m     23\u001b[0m     \u001b[39mif\u001b[39;00m \u001b[39mnot\u001b[39;00m os\u001b[39m.\u001b[39menviron\u001b[39m.\u001b[39mget(\u001b[39m\"\u001b[39m\u001b[39mDJANGO_ALLOW_ASYNC_UNSAFE\u001b[39m\u001b[39m\"\u001b[39m):\n\u001b[0;32m---> 24\u001b[0m         \u001b[39mraise\u001b[39;00m SynchronousOnlyOperation(message)\n\u001b[1;32m     25\u001b[0m \u001b[39m# Pass onward.\u001b[39;00m\n\u001b[1;32m     26\u001b[0m \u001b[39mreturn\u001b[39;00m func(\u001b[39m*\u001b[39margs, \u001b[39m*\u001b[39m\u001b[39m*\u001b[39mkwargs)\n",
      "\u001b[0;31mSynchronousOnlyOperation\u001b[0m: You cannot call this from an async context - use a thread or sync_to_async."
     ]
    }
   ],
   "source": [
    "from django.contrib.auth import get_user_model\n",
    "from chat_messages.utils import get_my_chats\n",
    "from chat_messages.models import Chat, ChatParticipant, ChatMessage\n",
    "from asgiref.sync import sync_to_async\n",
    "import asyncio\n",
    "import importlib\n",
    "import chat_messages.utils as utils\n",
    "# importlib.reload(utils)\n",
    "# Call the updated functions from utils\n",
    "\n",
    "@sync_to_async\n",
    "def chats(user):\n",
    "    return list(get_my_chats(user))\n",
    "\n",
    "@sync_to_async\n",
    "def get_user_by_pk(pk):\n",
    "    return User.objects.get(pk=pk)\n",
    "\n",
    "User = get_user_model()\n",
    "\n",
    "async def main():\n",
    "    user = await get_user_by_pk(2)\n",
    "    my_chats = await chats(user)\n",
    "    print(my_chats)\n",
    "\n",
    "await main()\n"
   ]
  },
  {
   "cell_type": "code",
   "execution_count": 12,
   "metadata": {},
   "outputs": [
    {
     "name": "stdout",
     "output_type": "stream",
     "text": [
      "<QuerySet [<Chat: hmaam>, <Chat: hmaam>, <Chat: hmaam>, <Chat: hmaam>, <Chat: hmaam>, <Chat: hmaam>, <Chat: hmaam>, <Chat: hmaam>]>\n"
     ]
    }
   ],
   "source": [
    "import asyncio\n",
    "from django.contrib.auth import get_user_model\n",
    "from chat_messages.utils import get_my_chats\n",
    "import importlib\n",
    "importlib.reload(utils)\n",
    "\n",
    "User = get_user_model()\n",
    "\n",
    "def sync_main():\n",
    "    user = User.objects.get(pk=2)\n",
    "    my_chats = get_my_chats(user)\n",
    "    print(my_chats)\n",
    "\n",
    "async def main():\n",
    "    await sync_to_async(sync_main)()\n",
    "\n",
    "await main()\n"
   ]
  }
 ],
 "metadata": {
  "kernelspec": {
   "display_name": "venv",
   "language": "python",
   "name": "python3"
  },
  "language_info": {
   "codemirror_mode": {
    "name": "ipython",
    "version": 3
   },
   "file_extension": ".py",
   "mimetype": "text/x-python",
   "name": "python",
   "nbconvert_exporter": "python",
   "pygments_lexer": "ipython3",
   "version": "3.11.3"
  },
  "orig_nbformat": 4
 },
 "nbformat": 4,
 "nbformat_minor": 2
}
